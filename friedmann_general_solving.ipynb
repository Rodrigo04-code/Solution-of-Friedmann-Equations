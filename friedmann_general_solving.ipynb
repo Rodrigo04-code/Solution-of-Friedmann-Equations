{
 "cells": [
  {
   "cell_type": "code",
   "execution_count": 37,
   "metadata": {},
   "outputs": [
    {
     "data": {
      "application/vnd.jupyter.widget-view+json": {
       "model_id": "c83bbdf67ce142728e177a5ea2502d04",
       "version_major": 2,
       "version_minor": 0
      },
      "text/plain": [
       "interactive(children=(FloatSlider(value=0.3, description='$\\\\Omega_m$', max=1.0, step=0.01), FloatSlider(value…"
      ]
     },
     "metadata": {},
     "output_type": "display_data"
    },
    {
     "data": {
      "text/plain": [
       "<function __main__.plot_friedmann(Omega_m0=0.3, Omega_r0=0.0, Omega_Lambda0=0.7, curvatura=0)>"
      ]
     },
     "execution_count": 37,
     "metadata": {},
     "output_type": "execute_result"
    }
   ],
   "source": [
    "import numpy as np\n",
    "from scipy.integrate import solve_ivp\n",
    "import matplotlib.pyplot as plt\n",
    "from ipywidgets import interact, FloatSlider, Dropdown\n",
    "\n",
    "# Sistema de ecuaciones de Friedmann\n",
    "def friedmann_system(t, y, Omega_m0, Omega_r0, Omega_Lambda0, Omega_k0):\n",
    "    a, v = y\n",
    "    da_dt = v\n",
    "    dv_dt = -0.5 * (Omega_m0 / a**2 + 2 * Omega_r0 / a**3 ) + Omega_Lambda0 * a \n",
    "    return [da_dt, dv_dt]\n",
    "\n",
    "# Función para resolver y graficar\n",
    "def plot_friedmann(Omega_m0=0.3, Omega_r0=0.0, Omega_Lambda0=0.7, curvatura=0):\n",
    "    # Calcular Omega_k0 a partir de la curvatura\n",
    "    Omega_k0 = 1 - Omega_m0 - Omega_r0 - Omega_Lambda0\n",
    "    if curvatura == -1:\n",
    "        Omega_k0 = abs(Omega_k0)  # Universo abierto\n",
    "    elif curvatura == 1:\n",
    "        Omega_k0 = -abs(Omega_k0)   # Universo cerrado\n",
    "    else:\n",
    "        Omega_k0 = 0               # Universo plano\n",
    "    \n",
    "    # Condiciones iniciales\n",
    "    a_initial = 1e-2  # Factor de escala inicial (muy pequeño para universo temprano)\n",
    "    v_initial = np.sqrt((Omega_m0 / a_initial + Omega_r0 / a_initial**2 + Omega_Lambda0 * a_initial**2 + Omega_k0))  # Velocidad inicial\n",
    "    t0 = 0\n",
    "    t_final = 10  # Tiempo final adimensional\n",
    "    \n",
    "    # Resolución numérica\n",
    "    sol = solve_ivp(\n",
    "        friedmann_system,\n",
    "        [t0, t_final],\n",
    "        [a_initial, v_initial],\n",
    "        args=(Omega_m0, Omega_r0, Omega_Lambda0, Omega_k0),\n",
    "        t_eval=np.linspace(t0, t_final, 1000),\n",
    "        method='RK45',\n",
    "        rtol=1e-8,\n",
    "        atol=1e-10\n",
    "    )\n",
    "    \n",
    "    # Extraer resultados\n",
    "    a = sol.y[0]\n",
    "    da_dt = sol.y[1]  # Velocidad de expansión da/dt\n",
    "    t = sol.t\n",
    "\n",
    "    \n",
    "    # Graficar\n",
    "    fig, axs = plt.subplots(2, 1, figsize=(10, 15), sharex=True)\n",
    "    \n",
    "    # Gráfico de a(t)\n",
    "    axs[0].plot(t, a, label=f\"$\\Omega_m={Omega_m0}$, $\\Omega_r={Omega_r0}$, $\\Omega_\\Lambda={Omega_Lambda0}$, $\\Omega_k={Omega_k0:.3f}$\")\n",
    "    axs[0].set_ylabel(\"Factor de escala $a(t)$\")\n",
    "    axs[0].set_title(\"Evolución del factor de escala $a(t)$\")\n",
    "    axs[0].set_xlabel(\"Tiempo adimensional $\\widetilde{t}$\")\n",
    "    axs[0].legend()\n",
    "    axs[0].grid()\n",
    "   \n",
    "    # Gráfico de da/dt\n",
    "    axs[1].plot(t, da_dt, label=\"Velocidad de expansión $da/dt$\")\n",
    "    axs[1].set_ylabel(\"Velocidad $da/dt$\")\n",
    "    axs[1].set_title(\"Evolución de la velocidad de expansión $da/dt$\")\n",
    "    axs[1].legend()\n",
    "    axs[1].set_xlabel(\"Tiempo adimensional $\\widetilde{t}$\")\n",
    "    axs[1].grid()\n",
    "    \n",
    "    plt.tight_layout()\n",
    "    plt.show()\n",
    "\n",
    "# Interactividad con ipywidgets\n",
    "interact(\n",
    "    plot_friedmann,\n",
    "    Omega_m0=FloatSlider(value=0.3, min=0.0, max=1.0, step=0.01, description=\"$\\Omega_m$\"),\n",
    "    Omega_r0=FloatSlider(value=0.0, min=0.0, max=1.0, step=0.01, description=\"$\\Omega_r$\"),\n",
    "    Omega_Lambda0=FloatSlider(value=0.7, min=-1.0, max=1.0, step=0.01, description=\"$\\Omega_\\Lambda$\"),\n",
    "    curvatura=Dropdown(options=[(\"Plano (k=0)\", 0), (\"Cerrado (k=1)\", 1), (\"Abierto (k=-1)\", -1)], description=\"Curvatura\")\n",
    ")\n"
   ]
  }
 ],
 "metadata": {
  "kernelspec": {
   "display_name": "Python 3",
   "language": "python",
   "name": "python3"
  },
  "language_info": {
   "codemirror_mode": {
    "name": "ipython",
    "version": 3
   },
   "file_extension": ".py",
   "mimetype": "text/x-python",
   "name": "python",
   "nbconvert_exporter": "python",
   "pygments_lexer": "ipython3",
   "version": "3.10.11"
  }
 },
 "nbformat": 4,
 "nbformat_minor": 2
}
